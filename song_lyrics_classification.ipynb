{
 "cells": [
  {
   "cell_type": "code",
   "execution_count": 1,
   "metadata": {},
   "outputs": [],
   "source": [
    "import pandas as pd\n",
    "import numpy as np\n",
    "from nltk import word_tokenize\n",
    "import re\n",
    "from sklearn.feature_extraction.text import CountVectorizer\n",
    "from sklearn.model_selection import train_test_split\n",
    "import matplotlib.pyplot as plt\n"
   ]
  },
  {
   "cell_type": "code",
   "execution_count": 2,
   "metadata": {},
   "outputs": [],
   "source": [
    "lyricsdf = pd.read_csv(\"song_lyrics.csv\")"
   ]
  },
  {
   "cell_type": "markdown",
   "metadata": {},
   "source": [
    "### <span style=\"color:teal\"> To start, the dataframe has ~5 million songs, which needs to be filtered to only include relevant and accurate entries that will be useful in providing recommendations and classifying by artist and genre."
   ]
  },
  {
   "cell_type": "code",
   "execution_count": 3,
   "metadata": {},
   "outputs": [
    {
     "data": {
      "text/plain": [
       "(5134856, 11)"
      ]
     },
     "execution_count": 3,
     "metadata": {},
     "output_type": "execute_result"
    }
   ],
   "source": [
    "lyricsdf.shape"
   ]
  },
  {
   "cell_type": "code",
   "execution_count": 4,
   "metadata": {},
   "outputs": [
    {
     "data": {
      "text/html": [
       "<div>\n",
       "<style scoped>\n",
       "    .dataframe tbody tr th:only-of-type {\n",
       "        vertical-align: middle;\n",
       "    }\n",
       "\n",
       "    .dataframe tbody tr th {\n",
       "        vertical-align: top;\n",
       "    }\n",
       "\n",
       "    .dataframe thead th {\n",
       "        text-align: right;\n",
       "    }\n",
       "</style>\n",
       "<table border=\"1\" class=\"dataframe\">\n",
       "  <thead>\n",
       "    <tr style=\"text-align: right;\">\n",
       "      <th></th>\n",
       "      <th>title</th>\n",
       "      <th>tag</th>\n",
       "      <th>artist</th>\n",
       "      <th>year</th>\n",
       "      <th>views</th>\n",
       "      <th>features</th>\n",
       "      <th>lyrics</th>\n",
       "      <th>id</th>\n",
       "      <th>language_cld3</th>\n",
       "      <th>language_ft</th>\n",
       "      <th>language</th>\n",
       "    </tr>\n",
       "  </thead>\n",
       "  <tbody>\n",
       "    <tr>\n",
       "      <th>0</th>\n",
       "      <td>Killa Cam</td>\n",
       "      <td>rap</td>\n",
       "      <td>Cam'ron</td>\n",
       "      <td>2004</td>\n",
       "      <td>173166</td>\n",
       "      <td>{\"Cam\\\\'ron\",\"Opera Steve\"}</td>\n",
       "      <td>[Chorus: Opera Steve &amp; Cam'ron]\\nKilla Cam, Ki...</td>\n",
       "      <td>1</td>\n",
       "      <td>en</td>\n",
       "      <td>en</td>\n",
       "      <td>en</td>\n",
       "    </tr>\n",
       "    <tr>\n",
       "      <th>1</th>\n",
       "      <td>Can I Live</td>\n",
       "      <td>rap</td>\n",
       "      <td>JAY-Z</td>\n",
       "      <td>1996</td>\n",
       "      <td>468624</td>\n",
       "      <td>{}</td>\n",
       "      <td>[Produced by Irv Gotti]\\n\\n[Intro]\\nYeah, hah,...</td>\n",
       "      <td>3</td>\n",
       "      <td>en</td>\n",
       "      <td>en</td>\n",
       "      <td>en</td>\n",
       "    </tr>\n",
       "    <tr>\n",
       "      <th>2</th>\n",
       "      <td>Forgive Me Father</td>\n",
       "      <td>rap</td>\n",
       "      <td>Fabolous</td>\n",
       "      <td>2003</td>\n",
       "      <td>4743</td>\n",
       "      <td>{}</td>\n",
       "      <td>Maybe cause I'm eatin\\nAnd these bastards fien...</td>\n",
       "      <td>4</td>\n",
       "      <td>en</td>\n",
       "      <td>en</td>\n",
       "      <td>en</td>\n",
       "    </tr>\n",
       "    <tr>\n",
       "      <th>3</th>\n",
       "      <td>Down and Out</td>\n",
       "      <td>rap</td>\n",
       "      <td>Cam'ron</td>\n",
       "      <td>2004</td>\n",
       "      <td>144404</td>\n",
       "      <td>{\"Cam\\\\'ron\",\"Kanye West\",\"Syleena Johnson\"}</td>\n",
       "      <td>[Produced by Kanye West and Brian Miller]\\n\\n[...</td>\n",
       "      <td>5</td>\n",
       "      <td>en</td>\n",
       "      <td>en</td>\n",
       "      <td>en</td>\n",
       "    </tr>\n",
       "    <tr>\n",
       "      <th>4</th>\n",
       "      <td>Fly In</td>\n",
       "      <td>rap</td>\n",
       "      <td>Lil Wayne</td>\n",
       "      <td>2005</td>\n",
       "      <td>78271</td>\n",
       "      <td>{}</td>\n",
       "      <td>[Intro]\\nSo they ask me\\n\"Young boy\\nWhat you ...</td>\n",
       "      <td>6</td>\n",
       "      <td>en</td>\n",
       "      <td>en</td>\n",
       "      <td>en</td>\n",
       "    </tr>\n",
       "  </tbody>\n",
       "</table>\n",
       "</div>"
      ],
      "text/plain": [
       "               title  tag     artist  year   views  \\\n",
       "0          Killa Cam  rap    Cam'ron  2004  173166   \n",
       "1         Can I Live  rap      JAY-Z  1996  468624   \n",
       "2  Forgive Me Father  rap   Fabolous  2003    4743   \n",
       "3       Down and Out  rap    Cam'ron  2004  144404   \n",
       "4             Fly In  rap  Lil Wayne  2005   78271   \n",
       "\n",
       "                                       features  \\\n",
       "0                   {\"Cam\\\\'ron\",\"Opera Steve\"}   \n",
       "1                                            {}   \n",
       "2                                            {}   \n",
       "3  {\"Cam\\\\'ron\",\"Kanye West\",\"Syleena Johnson\"}   \n",
       "4                                            {}   \n",
       "\n",
       "                                              lyrics  id language_cld3  \\\n",
       "0  [Chorus: Opera Steve & Cam'ron]\\nKilla Cam, Ki...   1            en   \n",
       "1  [Produced by Irv Gotti]\\n\\n[Intro]\\nYeah, hah,...   3            en   \n",
       "2  Maybe cause I'm eatin\\nAnd these bastards fien...   4            en   \n",
       "3  [Produced by Kanye West and Brian Miller]\\n\\n[...   5            en   \n",
       "4  [Intro]\\nSo they ask me\\n\"Young boy\\nWhat you ...   6            en   \n",
       "\n",
       "  language_ft language  \n",
       "0          en       en  \n",
       "1          en       en  \n",
       "2          en       en  \n",
       "3          en       en  \n",
       "4          en       en  "
      ]
     },
     "execution_count": 4,
     "metadata": {},
     "output_type": "execute_result"
    }
   ],
   "source": [
    "lyrics_df = lyricsdf.copy()\n",
    "lyrics_df.head(5)"
   ]
  },
  {
   "cell_type": "code",
   "execution_count": 5,
   "metadata": {},
   "outputs": [
    {
     "data": {
      "text/plain": [
       "<Axes: title={'center': 'Songs per Genre Before Preprocessing'}, xlabel='genre', ylabel='# of songs'>"
      ]
     },
     "execution_count": 5,
     "metadata": {},
     "output_type": "execute_result"
    },
    {
     "data": {
      "image/png": "[encoded data removed]",
      "text/plain": [
       "<Figure size 640x480 with 1 Axes>"
      ]
     },
     "metadata": {},
     "output_type": "display_data"
    }
   ],
   "source": [
    "lyrics_df[\"tag\"].value_counts().plot(kind=\"bar\", ylabel=\"# of songs\", xlabel=\"genre\", title=\"Songs per Genre Before Preprocessing\")"
   ]
  },
  {
   "cell_type": "markdown",
   "metadata": {},
   "source": [
    "# <span style=\"color:teal\"> <u>**Data Pre-Processing**"
   ]
  },
  {
   "cell_type": "markdown",
   "metadata": {},
   "source": [
    "### <span style=\"color:teal\"> Removing misc and country genres from dataset due to irrelevance for misc and limited examples for country:"
   ]
  },
  {
   "cell_type": "code",
   "execution_count": 6,
   "metadata": {},
   "outputs": [],
   "source": [
    "#drops misc genre since mostly non-songs\n",
    "miscidx = lyrics_df.loc[lyrics_df[\"tag\"] == \"misc\"].index\n",
    "lyrics_df = lyrics_df.drop(index=miscidx)\n",
    "#drops country genre since datapoints are too limited to accurately predict.\n",
    "countryidx = lyrics_df.loc[lyrics_df[\"tag\"] == \"country\"].index\n",
    "lyrics_df = lyrics_df.drop(index=countryidx)"
   ]
  },
  {
   "cell_type": "markdown",
   "metadata": {},
   "source": [
    "### <span style=\"color:teal\"> Removing songs with features to ensure no misattribution due to multiple artists on a song:"
   ]
  },
  {
   "cell_type": "code",
   "execution_count": 7,
   "metadata": {},
   "outputs": [
    {
     "name": "stdout",
     "output_type": "stream",
     "text": [
      "# of songs before removing songs w features:  4853085\n",
      "# of songs after removing:  3729179\n"
     ]
    }
   ],
   "source": [
    "#removes the rest of songs with features to help with authorship attribution\n",
    "songs_w_features_idx = lyrics_df.loc[lyrics_df[\"features\"] != \"{}\"].index\n",
    "print(\"# of songs before removing songs w features: \", lyrics_df.shape[0])\n",
    "lyrics_df = lyrics_df.drop(index=songs_w_features_idx)\n",
    "print(\"# of songs after removing: \", lyrics_df.shape[0])"
   ]
  },
  {
   "cell_type": "markdown",
   "metadata": {},
   "source": [
    "### <span style=\"color:teal\">As shown below, some artists' songs under their names are either live versions, or songs not belonging to them. There are also translations which will be removed since it is difficult to extract artist from titles and determine which translations are accurate."
   ]
  },
  {
   "cell_type": "code",
   "execution_count": 8,
   "metadata": {},
   "outputs": [
    {
     "name": "stdout",
     "output_type": "stream",
     "text": [
      "songs by artist: artist\n",
      "Genius Romanizations           16161\n",
      "Genius English Translations    13625\n",
      "The Grateful Dead               2109\n",
      "Genius Traduzioni Italiane      1640\n",
      "Tendon Levey                    1320\n",
      "Name: count, dtype: int64 \n",
      "\n",
      "\n",
      "songs by language: language\n",
      "en    2600216\n",
      "es     187772\n",
      "fr     132149\n",
      "de     119157\n",
      "pt      99443\n",
      "Name: count, dtype: int64\n"
     ]
    }
   ],
   "source": [
    "print(\"songs by artist:\", lyrics_df[\"artist\"].value_counts().head(5), \"\\n\")\n",
    "print(\"\\nsongs by language:\", lyrics_df[\"language\"].value_counts().head(5))"
   ]
  },
  {
   "cell_type": "markdown",
   "metadata": {},
   "source": [
    "### <span style=\"color:teal\"> In order to avoid misattributions or unreliable transcriptions, only songs with over 10,000 views are used. In addition, non-english language songs are dropped to focus only on english language data."
   ]
  },
  {
   "cell_type": "code",
   "execution_count": 9,
   "metadata": {},
   "outputs": [
    {
     "name": "stdout",
     "output_type": "stream",
     "text": [
      "# of songs before removing <10000 views: 3729179\n",
      "# of songs after removing: 120663\n",
      "# of songs before removing translations: 120663\n",
      "# of songs after removing: 84152\n"
     ]
    }
   ],
   "source": [
    "#to avoid live version duplicates and misattributed songs, I will \n",
    "#only take songs with over 5000 views (may adjust later).\n",
    "over_views_idx = lyrics_df.loc[lyrics_df[\"views\"] < 10000].index\n",
    "print(\"# of songs before removing <10000 views:\", lyrics_df.shape[0])\n",
    "lyrics_df = lyrics_df.drop(index=over_views_idx)\n",
    "print(\"# of songs after removing:\", lyrics_df.shape[0])\n",
    "#also drops songs starting with genius which are either songs in\n",
    "#lanugages other than english or translations\n",
    "non_en_idx = lyrics_df.loc[lyrics_df[\"language\"] != \"en\"].index\n",
    "print(\"# of songs before removing translations:\", lyrics_df.shape[0])\n",
    "lyrics_df = lyrics_df.drop(index=non_en_idx)\n",
    "translated_idx = lyrics_df.loc[lyrics_df[\"artist\"].str.startswith(\"Genius\")].index\n",
    "lyrics_df = lyrics_df.drop(index=translated_idx)\n",
    "print(\"# of songs after removing:\", lyrics_df.shape[0])"
   ]
  },
  {
   "cell_type": "markdown",
   "metadata": {},
   "source": [
    "### <span style=\"color:teal\"> To further improve reliability of data, only artists with 20 or more songs over 10000 views are included. This also will help classification by ensuring each artist has at least 20 songs to train from. Accuracy could be improved greatly for artist classification by further increasing these parameters, but I wanted to still have a sizeable number of artists both for recommendations and classification."
   ]
  },
  {
   "cell_type": "code",
   "execution_count": 10,
   "metadata": {},
   "outputs": [
    {
     "name": "stdout",
     "output_type": "stream",
     "text": [
      "# of songs before removing artists with <10 songs:  84152\n",
      "# of songs after removing:  43712\n"
     ]
    }
   ],
   "source": [
    "#gets and drops the indexes of songs whose artists have less than 20 songs over 10000 views in the whole dataset. \n",
    "#This also includes many songs with multiple artists since it would be difficult to find author autribution from those.\n",
    "few_songs_idx = lyrics_df[lyrics_df.groupby(\"artist\")[\"artist\"].transform('size')<20][\"artist\"].index\n",
    "print(\"# of songs before removing artists with <10 songs: \", lyrics_df.shape[0])\n",
    "lyrics_df = lyrics_df.drop(index=few_songs_idx)\n",
    "print(\"# of songs after removing: \", lyrics_df.shape[0])"
   ]
  },
  {
   "cell_type": "code",
   "execution_count": 11,
   "metadata": {},
   "outputs": [],
   "source": [
    "# drops features and language columns\n",
    "lyrics_df = lyrics_df.drop(columns=[\"features\", \"language_cld3\", \"language_ft\", \"language\"])\n",
    "#drops missing titles (only 5)\n",
    "lyrics_df = lyrics_df.dropna(axis=\"index\")\n",
    "#replaces zerospace characters in titles\n",
    "lyrics_df[\"title\"] = lyrics_df[\"title\"].str.replace(\"\\u200b\", \"\")\n"
   ]
  },
  {
   "cell_type": "markdown",
   "metadata": {},
   "source": [
    "### <span style=\"color:teal\"> As shown below, many artists have large numbers of songs, which imbalances the data towards these artists. However, these artists tend to be the most popular and attempts at downsampling utimately limits the data and makes it more difficult to give recommendations and identify these artists."
   ]
  },
  {
   "cell_type": "code",
   "execution_count": 12,
   "metadata": {},
   "outputs": [
    {
     "data": {
      "text/plain": [
       "artist\n",
       "Juice WRLD                    533\n",
       "YoungBoy Never Broke Again    308\n",
       "Lil Wayne                     308\n",
       "Chief Keef                    280\n",
       "BONES                         277\n",
       "                             ... \n",
       "Ramones                        20\n",
       "Dean Lewis                     20\n",
       "Central Cee                    20\n",
       "Blueface                       20\n",
       "The Streets                    20\n",
       "Name: count, Length: 904, dtype: int64"
      ]
     },
     "execution_count": 12,
     "metadata": {},
     "output_type": "execute_result"
    }
   ],
   "source": [
    "lyrics_df[\"artist\"].value_counts()"
   ]
  },
  {
   "cell_type": "markdown",
   "metadata": {},
   "source": [
    "### <span style=\"color:teal\"> Below is an earlier attempt at downsampling artists, however this ultimately harmed results for both artist attribution and genre attribution while also limiting the number of songs available for recommendation, so I did not end up using it for the final results:"
   ]
  },
  {
   "cell_type": "code",
   "execution_count": 13,
   "metadata": {},
   "outputs": [],
   "source": [
    "# print(\"# of songs before downsampling songs to balance artist counts: \", lyrics_df.shape[0])\n",
    "# artist_counts = lyrics_df[\"artist\"].value_counts()\n",
    "# over50 = artist_counts[artist_counts > 50].index\n",
    "# for artist in over50:\n",
    "#     #gets index of all songs for artist below their top 50 most viewed\n",
    "#     nottop50 = lyrics_df.loc[lyrics_df[\"artist\"] == artist].sort_values(by=\"views\", ascending=False).iloc[50:].index\n",
    "#     lyrics_df = lyrics_df.drop(index = nottop50)\n",
    "# print(\"# of songs after: \", lyrics_df.shape[0])\n"
   ]
  },
  {
   "cell_type": "markdown",
   "metadata": {},
   "source": [
    "### <span style=\"color:teal\"> After finishing most of the preprocessing, the dataset is left with ~43k songs and ~900 unique artists:"
   ]
  },
  {
   "cell_type": "code",
   "execution_count": 14,
   "metadata": {},
   "outputs": [
    {
     "name": "stdout",
     "output_type": "stream",
     "text": [
      "TOTAL SONGS: 43709\n",
      "TOTAL ARTISTS: 904\n"
     ]
    }
   ],
   "source": [
    "print(\"TOTAL SONGS:\", lyrics_df.shape[0])\n",
    "print(\"TOTAL ARTISTS:\", lyrics_df[\"artist\"].unique().shape[0])"
   ]
  },
  {
   "cell_type": "markdown",
   "metadata": {},
   "source": [
    "### <span style=\"color:teal\">Based on the distribution of genres after preprocessing below, I will later attempt to balance out the classes in order to see if that will avoid any biases in classification that may be caused by this imbalance of songs per genre."
   ]
  },
  {
   "cell_type": "code",
   "execution_count": 15,
   "metadata": {},
   "outputs": [
    {
     "data": {
      "text/plain": [
       "<Axes: title={'center': 'Songs per Genre After Preprocessing'}, xlabel='genre', ylabel='# of songs'>"
      ]
     },
     "execution_count": 15,
     "metadata": {},
     "output_type": "execute_result"
    },
    {
     "data": {
      "image/png": "[encoded data removed]",
      "text/plain": [
       "<Figure size 640x480 with 1 Axes>"
      ]
     },
     "metadata": {},
     "output_type": "display_data"
    }
   ],
   "source": [
    "lyrics_df[\"tag\"].value_counts().plot(kind=\"bar\", ylabel=\"# of songs\", xlabel=\"genre\", title=\"Songs per Genre After Preprocessing\")"
   ]
  },
  {
   "cell_type": "markdown",
   "metadata": {},
   "source": [
    "### <span style=\"color:teal\"> Visualization of most popular genres after reduction, not important for the project objectives but interesting to see nonetheless:"
   ]
  },
  {
   "cell_type": "code",
   "execution_count": 16,
   "metadata": {},
   "outputs": [
    {
     "name": "stdout",
     "output_type": "stream",
     "text": [
      "rap avg view count: 115935\n",
      "rock avg view count: 64394\n",
      "pop avg view count: 133052\n",
      "rb avg view count: 144235\n"
     ]
    },
    {
     "data": {
      "image/png": "[encoded data removed]",
      "text/plain": [
       "<Figure size 640x480 with 1 Axes>"
      ]
     },
     "metadata": {},
     "output_type": "display_data"
    }
   ],
   "source": [
    "view_count_list = []\n",
    "genre_list = []\n",
    "for genre in lyrics_df[\"tag\"].unique():\n",
    "    view_count = lyrics_df.loc[lyrics_df[\"tag\"] == genre][\"views\"].sum()\n",
    "    view_count_avg = view_count//lyrics_df.loc[lyrics_df[\"tag\"] == genre].shape[0]\n",
    "    print(genre, \"avg view count:\", view_count_avg)\n",
    "    view_count_list.append(view_count_avg)\n",
    "    genre_list.append(genre)\n",
    "plt.bar(range(len(genre_list)), view_count_list)\n",
    "plt.xticks(range(len(genre_list)), genre_list)\n",
    "plt.title(\"Average View Counts by Genre\")\n",
    "plt.show()\n"
   ]
  },
  {
   "cell_type": "markdown",
   "metadata": {},
   "source": [
    "# <span style=\"color:teal\"> <u>**Tokenizing Lyrics**   "
   ]
  },
  {
   "cell_type": "code",
   "execution_count": 17,
   "metadata": {},
   "outputs": [],
   "source": [
    "#function to tokenize words in a song\n",
    "def sent_transform(sent_string):\n",
    "    return [word.lower().strip() for word in word_tokenize(sent_string)]\n",
    "\n",
    "# function to remove any non-lyric data from the lyrics, for example \"[intro]\"\n",
    "def remove_notes(song_lyrics):\n",
    "    return re.sub(r\"\\[(?:[^\\]]*)\\]\", \"\", song_lyrics)"
   ]
  },
  {
   "cell_type": "code",
   "execution_count": 18,
   "metadata": {},
   "outputs": [
    {
     "name": "stdout",
     "output_type": "stream",
     "text": [
      "example of lyrics before tokenizing\n"
     ]
    },
    {
     "data": {
      "text/plain": [
       "1     [Produced by Irv Gotti]\\n\\n[Intro]\\nYeah, hah,...\n",
       "4     [Intro]\\nSo they ask me\\n\"Young boy\\nWhat you ...\n",
       "10    [Intro]\\nYeah\\nMoney on my mind, money on my m...\n",
       "12    [Produced by DJ Premier]\\n\\n[Hook Samples: Sno...\n",
       "13    [Produced by Just Blaze]\\n\\n[Intro: Gloria Car...\n",
       "Name: lyrics, dtype: object"
      ]
     },
     "execution_count": 18,
     "metadata": {},
     "output_type": "execute_result"
    }
   ],
   "source": [
    "print(\"example of lyrics before tokenizing\")\n",
    "lyrics_df[\"lyrics\"].head(5)"
   ]
  },
  {
   "cell_type": "code",
   "execution_count": 19,
   "metadata": {},
   "outputs": [],
   "source": [
    "lyrics_df[\"lyrics\"] = lyrics_df[\"lyrics\"].apply(remove_notes).apply(sent_transform)\n",
    "lyrics_df = lyrics_df.reset_index(drop=True)"
   ]
  },
  {
   "cell_type": "code",
   "execution_count": 20,
   "metadata": {},
   "outputs": [
    {
     "name": "stdout",
     "output_type": "stream",
     "text": [
      "example of lyrics after tokenizing\n"
     ]
    },
    {
     "data": {
      "text/plain": [
       "0    [yeah, ,, hah, ,, yeah, ,, roc-a-fella, we, in...\n",
       "1    [so, they, ask, me, '', young, boy, what, you,...\n",
       "2    [yeah, money, on, my, mind, ,, money, on, my, ...\n",
       "3    ['', dear, god, –, i, wonder, ,, can, you, sav...\n",
       "4    [shawn, carter, was, born, december, 4th, ,, w...\n",
       "Name: lyrics, dtype: object"
      ]
     },
     "execution_count": 20,
     "metadata": {},
     "output_type": "execute_result"
    }
   ],
   "source": [
    "print(\"example of lyrics after tokenizing\")\n",
    "lyrics_df[\"lyrics\"].head(5)"
   ]
  },
  {
   "cell_type": "markdown",
   "metadata": {},
   "source": [
    "### <span style=\"color:teal\"> Final bit of preprocessing after tokenizing to remove songs with >4000 tokens, which mostly include non-song data or are song compilations:"
   ]
  },
  {
   "cell_type": "code",
   "execution_count": 21,
   "metadata": {},
   "outputs": [],
   "source": [
    "over4000idx = lyrics_df.loc[lyrics_df[\"lyrics\"].apply(len) > 4000].index\n",
    "lyrics_df = lyrics_df.drop(index=over4000idx)\n",
    "lyrics_df = lyrics_df.reset_index(drop=True)"
   ]
  },
  {
   "cell_type": "markdown",
   "metadata": {},
   "source": [
    "# <span style=\"color:teal\"> <u>**Train Test Split & Baseline Model:**"
   ]
  },
  {
   "cell_type": "code",
   "execution_count": 22,
   "metadata": {},
   "outputs": [
    {
     "name": "stdout",
     "output_type": "stream",
     "text": [
      "Final # of songs: 43697\n",
      "Final # of artists: 904\n"
     ]
    },
    {
     "data": {
      "text/html": [
       "<div>\n",
       "<style scoped>\n",
       "    .dataframe tbody tr th:only-of-type {\n",
       "        vertical-align: middle;\n",
       "    }\n",
       "\n",
       "    .dataframe tbody tr th {\n",
       "        vertical-align: top;\n",
       "    }\n",
       "\n",
       "    .dataframe thead th {\n",
       "        text-align: right;\n",
       "    }\n",
       "</style>\n",
       "<table border=\"1\" class=\"dataframe\">\n",
       "  <thead>\n",
       "    <tr style=\"text-align: right;\">\n",
       "      <th></th>\n",
       "      <th>title</th>\n",
       "      <th>tag</th>\n",
       "      <th>artist</th>\n",
       "      <th>year</th>\n",
       "      <th>views</th>\n",
       "      <th>lyrics</th>\n",
       "      <th>id</th>\n",
       "    </tr>\n",
       "  </thead>\n",
       "  <tbody>\n",
       "    <tr>\n",
       "      <th>0</th>\n",
       "      <td>Can I Live</td>\n",
       "      <td>rap</td>\n",
       "      <td>JAY-Z</td>\n",
       "      <td>1996</td>\n",
       "      <td>468624</td>\n",
       "      <td>[yeah, ,, hah, ,, yeah, ,, roc-a-fella, we, in...</td>\n",
       "      <td>3</td>\n",
       "    </tr>\n",
       "    <tr>\n",
       "      <th>1</th>\n",
       "      <td>Fly In</td>\n",
       "      <td>rap</td>\n",
       "      <td>Lil Wayne</td>\n",
       "      <td>2005</td>\n",
       "      <td>78271</td>\n",
       "      <td>[so, they, ask, me, '', young, boy, what, you,...</td>\n",
       "      <td>6</td>\n",
       "    </tr>\n",
       "    <tr>\n",
       "      <th>2</th>\n",
       "      <td>Money On My Mind</td>\n",
       "      <td>rap</td>\n",
       "      <td>Lil Wayne</td>\n",
       "      <td>2005</td>\n",
       "      <td>128927</td>\n",
       "      <td>[yeah, money, on, my, mind, ,, money, on, my, ...</td>\n",
       "      <td>12</td>\n",
       "    </tr>\n",
       "    <tr>\n",
       "      <th>3</th>\n",
       "      <td>DEvils</td>\n",
       "      <td>rap</td>\n",
       "      <td>JAY-Z</td>\n",
       "      <td>1996</td>\n",
       "      <td>504959</td>\n",
       "      <td>['', dear, god, –, i, wonder, ,, can, you, sav...</td>\n",
       "      <td>14</td>\n",
       "    </tr>\n",
       "    <tr>\n",
       "      <th>4</th>\n",
       "      <td>December 4th</td>\n",
       "      <td>rap</td>\n",
       "      <td>JAY-Z</td>\n",
       "      <td>2003</td>\n",
       "      <td>283714</td>\n",
       "      <td>[shawn, carter, was, born, december, 4th, ,, w...</td>\n",
       "      <td>15</td>\n",
       "    </tr>\n",
       "  </tbody>\n",
       "</table>\n",
       "</div>"
      ],
      "text/plain": [
       "              title  tag     artist  year   views  \\\n",
       "0        Can I Live  rap      JAY-Z  1996  468624   \n",
       "1            Fly In  rap  Lil Wayne  2005   78271   \n",
       "2  Money On My Mind  rap  Lil Wayne  2005  128927   \n",
       "3            DEvils  rap      JAY-Z  1996  504959   \n",
       "4      December 4th  rap      JAY-Z  2003  283714   \n",
       "\n",
       "                                              lyrics  id  \n",
       "0  [yeah, ,, hah, ,, yeah, ,, roc-a-fella, we, in...   3  \n",
       "1  [so, they, ask, me, '', young, boy, what, you,...   6  \n",
       "2  [yeah, money, on, my, mind, ,, money, on, my, ...  12  \n",
       "3  ['', dear, god, –, i, wonder, ,, can, you, sav...  14  \n",
       "4  [shawn, carter, was, born, december, 4th, ,, w...  15  "
      ]
     },
     "execution_count": 22,
     "metadata": {},
     "output_type": "execute_result"
    }
   ],
   "source": [
    "print(\"Final # of songs:\", lyrics_df.shape[0])\n",
    "print(\"Final # of artists:\", len(lyrics_df[\"artist\"].unique()))\n",
    "lyrics_df.head(5)"
   ]
  },
  {
   "cell_type": "markdown",
   "metadata": {},
   "source": [
    "### <span style=\"color:teal\"> Train/test split with an 80/20 split, with additional seperation of y into genre and artist for predicted classes:"
   ]
  },
  {
   "cell_type": "code",
   "execution_count": 23,
   "metadata": {},
   "outputs": [],
   "source": [
    "X = lyrics_df[\"lyrics\"]\n",
    "y = lyrics_df[[\"tag\", \"artist\"]]\n",
    "\n",
    "X_train, X_test, y_train, y_test = train_test_split(X, y, test_size=0.2, random_state=1)\n",
    "\n",
    "y_train_artist = y_train[\"artist\"]\n",
    "y_train_tag = y_train[\"tag\"]\n",
    "y_test_artist = y_test[\"artist\"]\n",
    "y_test_tag = y_test[\"tag\"]"
   ]
  },
  {
   "cell_type": "markdown",
   "metadata": {},
   "source": [
    "### <span style=\"color:teal\"> Bag of words vectorization of lyric tokens, fit and transformed on lyric train data and transformed on lyric test data:"
   ]
  },
  {
   "cell_type": "code",
   "execution_count": 24,
   "metadata": {},
   "outputs": [
    {
     "name": "stderr",
     "output_type": "stream",
     "text": [
      "/Users/michael.781/anaconda3/lib/python3.11/site-packages/sklearn/feature_extraction/text.py:528: UserWarning: The parameter 'token_pattern' will not be used since 'tokenizer' is not None'\n",
      "  warnings.warn(\n"
     ]
    }
   ],
   "source": [
    "def dummy(doc):\n",
    "    return doc\n",
    "vectorizer = CountVectorizer(tokenizer=dummy, preprocessor=dummy)\n",
    "X_train_BoW = vectorizer.fit_transform(X_train)\n",
    "X_test_BoW = vectorizer.transform(X_test)"
   ]
  },
  {
   "cell_type": "markdown",
   "metadata": {},
   "source": [
    "### <span style=\"color:teal\"> Functions for ease of use when building models:"
   ]
  },
  {
   "cell_type": "code",
   "execution_count": 25,
   "metadata": {},
   "outputs": [],
   "source": [
    "def fit_predict_artists(model, model_name, input_type):\n",
    "    #if Word2Vec vectorization, uses word2vec embeddings on train and test X\n",
    "    if input_type == \"Word2Vec\":\n",
    "        model.fit(X_train_embeddings, y_train_artist)\n",
    "        predictions = model.predict(X_test_embeddings)\n",
    "    #else if bag of words, uses bag of words vectorization on train and test x\n",
    "    else:\n",
    "        model.fit(X_train_BoW, y_train_artist)\n",
    "        predictions = model.predict(X_test_BoW)\n",
    "    \n",
    "    #prints total correct out of total predicted for artists, a classification report with precision and recall is difficult due to the ~900 artists\n",
    "    true_artist = y_test_artist.to_numpy()\n",
    "    totalcorrect = (true_artist == predictions).sum()\n",
    "    totaltest = len(true_artist)\n",
    "    print(f\"{totalcorrect} correct artists/{totaltest} total artists, using {model_name} with {input_type} = accuracy of {totalcorrect/totaltest}\")"
   ]
  },
  {
   "cell_type": "code",
   "execution_count": 26,
   "metadata": {},
   "outputs": [],
   "source": [
    "from sklearn.metrics import classification_report\n",
    "def fit_predict_genre(model, model_name, input_type, balanced=False):\n",
    "    #if Word2Vec vectorization, uses word2vec embeddings on train and test X\n",
    "    if input_type == \"Word2Vec\":\n",
    "        #if balanced is specified in parameter, uses upsampled genre data calculated with RandomOverSampler from imblearn.\n",
    "        if balanced:\n",
    "            model.fit(X_train_embeddings_genre, y_train_genre)\n",
    "            predictions = model.predict(X_test_embeddings)\n",
    "        #otherwise uses regular X train without upsampling\n",
    "        else:\n",
    "            model.fit(X_train_embeddings, y_train_tag)\n",
    "            predictions = model.predict(X_test_embeddings)\n",
    "    #else if bag of words, uses bag of words vectorization on train and test x\n",
    "    else:\n",
    "        model.fit(X_train_BoW, y_train_tag)\n",
    "        predictions = model.predict(X_test_BoW)\n",
    "    #prints classification report with accuracy as well as precision, recall, and f1 for each genre.\n",
    "    print(f\"Genre results for {model_name} with {input_type}:\")\n",
    "    print(classification_report(y_test_tag, predictions))"
   ]
  },
  {
   "cell_type": "markdown",
   "metadata": {},
   "source": [
    "# <span style=\"color:teal\"> <u>Baseline Naive Bayes Model using Bag of Words vectorization:"
   ]
  },
  {
   "cell_type": "code",
   "execution_count": 27,
   "metadata": {},
   "outputs": [
    {
     "name": "stdout",
     "output_type": "stream",
     "text": [
      "362 correct artists/8740 total artists, using Naive Bayes with Bag of Words = accuracy of 0.0414187643020595\n"
     ]
    }
   ],
   "source": [
    "from sklearn.naive_bayes import MultinomialNB\n",
    "NB_artist_model = MultinomialNB()\n",
    "fit_predict_artists(NB_artist_model, \"Naive Bayes\", \"Bag of Words\")"
   ]
  },
  {
   "cell_type": "code",
   "execution_count": 28,
   "metadata": {},
   "outputs": [
    {
     "name": "stdout",
     "output_type": "stream",
     "text": [
      "Genre results for Naive Bayes with Bag of Words:\n",
      "              precision    recall  f1-score   support\n",
      "\n",
      "         pop       0.46      0.54      0.50      1696\n",
      "         rap       0.93      0.85      0.88      3736\n",
      "          rb       0.41      0.29      0.34       635\n",
      "        rock       0.68      0.73      0.70      2673\n",
      "\n",
      "    accuracy                           0.71      8740\n",
      "   macro avg       0.62      0.60      0.61      8740\n",
      "weighted avg       0.72      0.71      0.71      8740\n",
      "\n"
     ]
    }
   ],
   "source": [
    "NB_genre_model = MultinomialNB()\n",
    "fit_predict_genre(NB_genre_model, \"Naive Bayes\", \"Bag of Words\")"
   ]
  },
  {
   "cell_type": "markdown",
   "metadata": {},
   "source": [
    "# <span style=\"color:teal\"> <u>Word2Vec embeddings trained on lyric data:"
   ]
  },
  {
   "cell_type": "markdown",
   "metadata": {},
   "source": [
    "### <span style=\"color:teal\"> For my non-baseline models, I decided to use Word2Vec embeddings due to their abililty to capture word/token semantics which I expect to be more useful than a basic bag of words approach, since they should more accurately be able to represent the meaning/topic of a specific song. I would expect this representation will allow for better groupings of data by artist and genre."
   ]
  },
  {
   "cell_type": "code",
   "execution_count": 29,
   "metadata": {},
   "outputs": [
    {
     "name": "stdout",
     "output_type": "stream",
     "text": [
      "Word2Vec<vocab=102687, vector_size=100, alpha=0.025>\n"
     ]
    }
   ],
   "source": [
    "from gensim.models import Word2Vec\n",
    "#generates word embeddings trained on all songs in x_train\n",
    "songlist = X_train.to_list()\n",
    "lyrics_embeddings = Word2Vec(sentences=songlist, min_count=1)\n",
    "print(lyrics_embeddings)"
   ]
  },
  {
   "cell_type": "markdown",
   "metadata": {},
   "source": [
    "### <span style=\"color:teal\"> Shown below is the effects of training the embeddings on the lyric data, where a word like **ice** (which is often used as slang for diamonds) is most similar to watches & diamond types, rather than with the pretrained embeddings where it would be similar to freeze, water, glacier etc."
   ]
  },
  {
   "cell_type": "code",
   "execution_count": 30,
   "metadata": {},
   "outputs": [
    {
     "name": "stdout",
     "output_type": "stream",
     "text": [
      "[('wrist', 0.6800469756126404), ('froze', 0.6456757187843323), ('cream', 0.6302452087402344), ('baguettes', 0.6294153332710266), ('patek', 0.6287558674812317), ('vvs', 0.6152169108390808), ('rubik', 0.6136263012886047), ('necklace', 0.6107965111732483), ('icy', 0.6084887981414795), ('glacier', 0.5953954458236694)]\n"
     ]
    }
   ],
   "source": [
    "print(lyrics_embeddings.wv.most_similar([\"ice\"]))"
   ]
  },
  {
   "cell_type": "markdown",
   "metadata": {},
   "source": [
    "### <span style=\"color:teal\"> In order to use these embeddings efficiently for training the models, I took the average embeddings for each word in each song, which results in a 100 dimension representation of the embeddings."
   ]
  },
  {
   "cell_type": "code",
   "execution_count": 31,
   "metadata": {},
   "outputs": [],
   "source": [
    "def get_avg_embeddings(lyrics_list):\n",
    "    \n",
    "    lyrics_array = lyrics_list.copy().to_list()\n",
    "    #iterates over array of tokenized songs, taking the average of each of their token embeddings, then using that average as the song's embedding.\n",
    "    for idx, lyrics in enumerate(lyrics_array):\n",
    "        lyrics_in_vocab = [word for word in lyrics if word in lyrics_embeddings.wv.key_to_index]\n",
    "        lyrics_avg = np.mean(lyrics_embeddings.wv[lyrics_in_vocab], axis=0)\n",
    "        lyrics_array[idx] = lyrics_avg\n",
    "    return lyrics_array"
   ]
  },
  {
   "cell_type": "markdown",
   "metadata": {},
   "source": [
    "### <span style=\"color:teal\"> These average embeddings are calculated for to both the train and test data, and then the total lyrics in both which will be used seperately to generate song recommendations."
   ]
  },
  {
   "cell_type": "code",
   "execution_count": 32,
   "metadata": {},
   "outputs": [],
   "source": [
    "#gets average embeddings for X_train and X_test, as well as total embeddings to use for recommendations\n",
    "X_train_embeddings = get_avg_embeddings(X_train)\n",
    "X_test_embeddings = get_avg_embeddings(X_test)\n",
    "X_total_embeddings = get_avg_embeddings(X)"
   ]
  },
  {
   "cell_type": "markdown",
   "metadata": {},
   "source": [
    "### <span style=\"color:teal\"> As shown earlier and below, there is an imbalance in genres which I want to fix in order to test if performance can be improved."
   ]
  },
  {
   "cell_type": "code",
   "execution_count": 33,
   "metadata": {},
   "outputs": [
    {
     "name": "stdout",
     "output_type": "stream",
     "text": [
      "tag\n",
      "rap     14942\n",
      "rock    10507\n",
      "pop      7030\n",
      "rb       2478\n",
      "Name: count, dtype: int64\n"
     ]
    }
   ],
   "source": [
    "print(y_train_tag.value_counts())"
   ]
  },
  {
   "cell_type": "markdown",
   "metadata": {},
   "source": [
    "### <span style=\"color:teal\"> To fix this imbalance, I will use the RandomOverSampler from imblearn which I specify to randomly sample from the training embeddings of minority classes, in order to create data points for these minority classes and balance them with the majority."
   ]
  },
  {
   "cell_type": "code",
   "execution_count": 34,
   "metadata": {},
   "outputs": [],
   "source": [
    "from imblearn.over_sampling import RandomOverSampler\n",
    "ros = RandomOverSampler(sampling_strategy=\"not majority\")\n",
    "X_train_embeddings_genre, y_train_genre = ros.fit_resample(X_train_embeddings, y_train_tag)\n"
   ]
  },
  {
   "cell_type": "markdown",
   "metadata": {},
   "source": [
    "### <span style=\"color:teal\"> As shown below, this results in an even split between all classes and will be used when model training to see if better performance can be achieved."
   ]
  },
  {
   "cell_type": "code",
   "execution_count": 35,
   "metadata": {},
   "outputs": [
    {
     "data": {
      "text/plain": [
       "tag\n",
       "rap     14942\n",
       "rock    14942\n",
       "pop     14942\n",
       "rb      14942\n",
       "Name: count, dtype: int64"
      ]
     },
     "execution_count": 35,
     "metadata": {},
     "output_type": "execute_result"
    }
   ],
   "source": [
    "y_train_genre.value_counts()"
   ]
  },
  {
   "cell_type": "markdown",
   "metadata": {},
   "source": [
    "# <span style=\"color:teal\"> <u>Song Recommendations:"
   ]
  },
  {
   "cell_type": "markdown",
   "metadata": {},
   "source": [
    "### <span style=\"color:teal\"> I created a function which calculates euclidian distance between song embeddings in order to determine the *num_reccomendations* closest songs to the specified song and artist."
   ]
  },
  {
   "cell_type": "code",
   "execution_count": 36,
   "metadata": {},
   "outputs": [],
   "source": [
    "def return_recommendations(num_reccomendations, song_name, song_artist):\n",
    "    #list of distances from current song to each song in lyrics_df\n",
    "    dist_array = []\n",
    "    #gets the index of the specified song\n",
    "    song_idx = lyrics_df.loc[(lyrics_df[\"title\"] == song_name) & (lyrics_df[\"artist\"] == song_artist)].index[0]\n",
    "    #gets the song embeddings for the specified song\n",
    "    song_avg_embeddings = X_total_embeddings[song_idx]\n",
    "    #iterates over each song in X_total_embeddings (which lines up with songs in lyrics_df)\n",
    "    for idx, cur_song_avg in enumerate(X_total_embeddings):\n",
    "        #calculates distance between specified song and current song in iteration using euclidian distance\n",
    "        cur_distance = np.linalg.norm(song_avg_embeddings - cur_song_avg)\n",
    "        #appends a tuple of the distance and song idx to dist_array\n",
    "        dist_array.append((cur_distance, idx))\n",
    "    #after all distances calculated, sorts by descending distances\n",
    "    song_distances = sorted(dist_array)\n",
    "    #returns the top num_recommendations results (excluding the closest since it will always be the specified song) with song name and artist\n",
    "    for idx in range(1, num_reccomendations + 1):\n",
    "        cur_idx = song_distances[idx][1]\n",
    "        print(f\"{lyrics_df.iloc[cur_idx]['title']}, by {lyrics_df.iloc[cur_idx]['artist']}\")\n",
    "    "
   ]
  },
  {
   "cell_type": "markdown",
   "metadata": {},
   "source": [
    "### <span style=\"color:teal\"> Some examples of recommendations for each genre: r&b with The Weeknd, rap with Travis Scott, pop with Taylor Swift, and rock with Imagine Dragons. The recommendations tend to stick within the genre and are similar topics even if the vibe of the song is different due to the instrumental or the style."
   ]
  },
  {
   "cell_type": "code",
   "execution_count": 37,
   "metadata": {},
   "outputs": [
    {
     "name": "stdout",
     "output_type": "stream",
     "text": [
      "IDK What Love Is, by Wicca Phase Springs Eternal\n",
      "Wedding, by Mac Miller\n",
      "The King, by Conan Gray\n",
      "On to the Next One, by Tink\n",
      "Fucking Fans, by Drake\n"
     ]
    }
   ],
   "source": [
    "return_recommendations(5, \"The Hills\", \"The Weeknd\")"
   ]
  },
  {
   "cell_type": "code",
   "execution_count": 38,
   "metadata": {},
   "outputs": [
    {
     "name": "stdout",
     "output_type": "stream",
     "text": [
      "Keep Being Me, by Lil Uzi Vert\n",
      "The Hooch, by Travis Scott\n",
      "HOUSTONFORNICATION Demo, by Travis Scott\n",
      "CRANK, by City Morgue\n",
      "Caligula, by City Morgue\n"
     ]
    }
   ],
   "source": [
    "return_recommendations(5, \"BUTTERFLY EFFECT\", \"Travis Scott\")"
   ]
  },
  {
   "cell_type": "code",
   "execution_count": 39,
   "metadata": {},
   "outputs": [
    {
     "name": "stdout",
     "output_type": "stream",
     "text": [
      "cardigan voice memo, by Taylor Swift\n",
      "You Know Im No Good, by Amy Winehouse\n",
      "Poison Oak, by Bright Eyes\n",
      "Annie, by Manchester Orchestra\n",
      "You Grew On Me, by Tim Minchin\n"
     ]
    }
   ],
   "source": [
    "return_recommendations(5, \"cardigan\", \"Taylor Swift\")"
   ]
  },
  {
   "cell_type": "code",
   "execution_count": 40,
   "metadata": {},
   "outputs": [
    {
     "name": "stdout",
     "output_type": "stream",
     "text": [
      "Believer Kaskade Remix, by Imagine Dragons\n",
      "Believer, by AURORA\n",
      "Arcadia, by Lana Del Rey\n",
      "Skywalker, by Denzel Curry\n",
      "untitled 01 | 08.19.2014., by Kendrick Lamar\n"
     ]
    }
   ],
   "source": [
    "return_recommendations(5, \"Believer\", \"Imagine Dragons\")"
   ]
  },
  {
   "cell_type": "code",
   "execution_count": 41,
   "metadata": {},
   "outputs": [],
   "source": [
    "# A helper to find exact song names by looking up most popular songs by an artist\n",
    "# lyrics_df.loc[lyrics_df[\"artist\"] == \"Imagine Dragons\"].sort_values(by=\"views\", ascending=False)"
   ]
  },
  {
   "cell_type": "markdown",
   "metadata": {},
   "source": [
    "# <span style=\"color:teal\"> <u>Classification Models:"
   ]
  },
  {
   "cell_type": "markdown",
   "metadata": {},
   "source": [
    "### <span style=\"color:teal\"> To start, I tested a K-nearest neighbors classifier since I imagined similar songs would be close together, and hoped songs by artist as well as genre would be neighbors."
   ]
  },
  {
   "cell_type": "code",
   "execution_count": 42,
   "metadata": {},
   "outputs": [
    {
     "name": "stdout",
     "output_type": "stream",
     "text": [
      "615 correct artists/8740 total artists, using K-Nearest Neighbors with Word2Vec = accuracy of 0.07036613272311212\n"
     ]
    }
   ],
   "source": [
    "from sklearn.neighbors import KNeighborsClassifier\n",
    "KN_model = KNeighborsClassifier(n_neighbors=2)\n",
    "fit_predict_artists(KN_model, \"K-Nearest Neighbors\", \"Word2Vec\")\n"
   ]
  },
  {
   "cell_type": "code",
   "execution_count": 43,
   "metadata": {},
   "outputs": [
    {
     "name": "stdout",
     "output_type": "stream",
     "text": [
      "Genre results for K-Nearest Neighbors with Word2Vec:\n",
      "              precision    recall  f1-score   support\n",
      "\n",
      "         pop       0.42      0.31      0.36      1696\n",
      "         rap       0.69      0.96      0.80      3736\n",
      "          rb       0.37      0.14      0.20       635\n",
      "        rock       0.68      0.53      0.60      2673\n",
      "\n",
      "    accuracy                           0.64      8740\n",
      "   macro avg       0.54      0.49      0.49      8740\n",
      "weighted avg       0.61      0.64      0.61      8740\n",
      "\n"
     ]
    }
   ],
   "source": [
    "KN_model = KNeighborsClassifier(n_neighbors=10)\n",
    "fit_predict_genre(KN_model, \"K-Nearest Neighbors\", \"Word2Vec\")"
   ]
  },
  {
   "cell_type": "markdown",
   "metadata": {},
   "source": [
    "### <span style=\"color:teal\"> In order to test if misclassification was due in part to imbalances, I ran the same model with the balanced training data from before, however results were only slightly better for r&b, and decreased for all other genres."
   ]
  },
  {
   "cell_type": "code",
   "execution_count": 44,
   "metadata": {},
   "outputs": [
    {
     "name": "stdout",
     "output_type": "stream",
     "text": [
      "Genre results for K-Nearest Neighbors with Word2Vec:\n",
      "              precision    recall  f1-score   support\n",
      "\n",
      "         pop       0.39      0.33      0.36      1696\n",
      "         rap       0.80      0.88      0.83      3736\n",
      "          rb       0.20      0.47      0.28       635\n",
      "        rock       0.68      0.44      0.54      2673\n",
      "\n",
      "    accuracy                           0.61      8740\n",
      "   macro avg       0.52      0.53      0.50      8740\n",
      "weighted avg       0.64      0.61      0.61      8740\n",
      "\n"
     ]
    }
   ],
   "source": [
    "KN_model=KNeighborsClassifier(n_neighbors=10)\n",
    "fit_predict_genre(KN_model, \"K-Nearest Neighbors\", \"Word2Vec\", balanced=True)\n"
   ]
  },
  {
   "cell_type": "markdown",
   "metadata": {},
   "source": [
    "### <span style=\"color:teal\"> After testing a k-nearest neighbors model, I decided to try a multilayer perceptron due to its ability to handle non-linear data, since I initially believed artists would not be due to the embeddings picking up on topics rather than specific artist style."
   ]
  },
  {
   "cell_type": "code",
   "execution_count": 45,
   "metadata": {},
   "outputs": [
    {
     "name": "stdout",
     "output_type": "stream",
     "text": [
      "853 correct artists/8740 total artists, using Multilayer Perceptron with Word2Vec = accuracy of 0.09759725400457665\n"
     ]
    },
    {
     "name": "stderr",
     "output_type": "stream",
     "text": [
      "/Users/michael.781/anaconda3/lib/python3.11/site-packages/sklearn/neural_network/_multilayer_perceptron.py:686: ConvergenceWarning: Stochastic Optimizer: Maximum iterations (10) reached and the optimization hasn't converged yet.\n",
      "  warnings.warn(\n"
     ]
    }
   ],
   "source": [
    "from sklearn.neural_network import MLPClassifier\n",
    "NN_model = MLPClassifier(hidden_layer_sizes=100, activation=\"relu\", early_stopping=True, max_iter=10)\n",
    "fit_predict_artists(NN_model, \"Multilayer Perceptron\", \"Word2Vec\")"
   ]
  },
  {
   "cell_type": "code",
   "execution_count": 46,
   "metadata": {},
   "outputs": [
    {
     "name": "stderr",
     "output_type": "stream",
     "text": [
      "/Users/michael.781/anaconda3/lib/python3.11/site-packages/sklearn/neural_network/_multilayer_perceptron.py:686: ConvergenceWarning: Stochastic Optimizer: Maximum iterations (10) reached and the optimization hasn't converged yet.\n",
      "  warnings.warn(\n"
     ]
    },
    {
     "name": "stdout",
     "output_type": "stream",
     "text": [
      "Genre results for Multilayer Perceptron with Word2Vec:\n",
      "              precision    recall  f1-score   support\n",
      "\n",
      "         pop       0.47      0.42      0.45      1696\n",
      "         rap       0.88      0.91      0.89      3736\n",
      "          rb       0.47      0.12      0.19       635\n",
      "        rock       0.66      0.79      0.72      2673\n",
      "\n",
      "    accuracy                           0.72      8740\n",
      "   macro avg       0.62      0.56      0.56      8740\n",
      "weighted avg       0.70      0.72      0.70      8740\n",
      "\n"
     ]
    }
   ],
   "source": [
    "NN_model = MLPClassifier(hidden_layer_sizes=100, activation=\"relu\", early_stopping=True, max_iter=10)\n",
    "fit_predict_genre(NN_model, \"Multilayer Perceptron\", \"Word2Vec\")"
   ]
  },
  {
   "cell_type": "markdown",
   "metadata": {},
   "source": [
    "### <span style=\"color:teal\"> The multilayer perceptron performed better than both the baseline and KNN model for artist classification, and did an overall better job classifying genres outside of classifying r&b where it dropped to only a .07 f1. However, it does very well for rap and rock, and only slightly worse for pop."
   ]
  },
  {
   "cell_type": "code",
   "execution_count": 47,
   "metadata": {},
   "outputs": [
    {
     "name": "stderr",
     "output_type": "stream",
     "text": [
      "/Users/michael.781/anaconda3/lib/python3.11/site-packages/sklearn/neural_network/_multilayer_perceptron.py:686: ConvergenceWarning: Stochastic Optimizer: Maximum iterations (10) reached and the optimization hasn't converged yet.\n",
      "  warnings.warn(\n"
     ]
    },
    {
     "name": "stdout",
     "output_type": "stream",
     "text": [
      "Genre results for Multilayer Perceptron with Word2Vec:\n",
      "              precision    recall  f1-score   support\n",
      "\n",
      "         pop       0.48      0.40      0.43      1696\n",
      "         rap       0.93      0.85      0.89      3736\n",
      "          rb       0.27      0.49      0.35       635\n",
      "        rock       0.69      0.70      0.69      2673\n",
      "\n",
      "    accuracy                           0.69      8740\n",
      "   macro avg       0.59      0.61      0.59      8740\n",
      "weighted avg       0.72      0.69      0.70      8740\n",
      "\n"
     ]
    }
   ],
   "source": [
    "NN_model = MLPClassifier(hidden_layer_sizes=100, activation=\"relu\", early_stopping=True, max_iter=10)\n",
    "fit_predict_genre(NN_model, \"Multilayer Perceptron\", \"Word2Vec\", balanced=True)"
   ]
  },
  {
   "cell_type": "markdown",
   "metadata": {},
   "source": [
    "### <span style=\"color:teal\"> Trying with the upsampled data, the performance is better for r&b, but drops off slightly for the others. If the goal is to improve r&b accuracy it does a better job, but aside from that it decreases performace for the others."
   ]
  },
  {
   "cell_type": "markdown",
   "metadata": {},
   "source": [
    "_________________________________________________________________________________________________________________________________________________________________________________"
   ]
  },
  {
   "cell_type": "markdown",
   "metadata": {},
   "source": [
    "### <span style=\"color:teal\"> After the multilayer perceptron, I tried a random forest classifier using 100 decision trees, although only on the genre classification since for artist classification there are too many classes to calculate accurately and efficiently. I wanted to try decision trees due to their ability to seperate the data into quadrants based on class which I thought would be helpful in identify data clusters of related artists & genres."
   ]
  },
  {
   "cell_type": "code",
   "execution_count": 48,
   "metadata": {},
   "outputs": [
    {
     "name": "stdout",
     "output_type": "stream",
     "text": [
      "Genre results for decision tree with Word2Vec:\n",
      "              precision    recall  f1-score   support\n",
      "\n",
      "         pop       0.43      0.39      0.41      1696\n",
      "         rap       0.88      0.89      0.89      3736\n",
      "          rb       0.49      0.09      0.14       635\n",
      "        rock       0.63      0.78      0.70      2673\n",
      "\n",
      "    accuracy                           0.70      8740\n",
      "   macro avg       0.61      0.54      0.54      8740\n",
      "weighted avg       0.69      0.70      0.68      8740\n",
      "\n"
     ]
    }
   ],
   "source": [
    "from sklearn.ensemble import RandomForestClassifier\n",
    "model = RandomForestClassifier(n_estimators = 100)\n",
    "fit_predict_genre(model, \"decision tree\", \"Word2Vec\")"
   ]
  },
  {
   "cell_type": "markdown",
   "metadata": {},
   "source": [
    "### <span style=\"color:teal\"> Finally, in order to test for some linear relationship in the data I tried a Logistic Regression model, and although it took around 2 minutes, it correctly predicted around 16% of artists, which is much better than any other model I tried."
   ]
  },
  {
   "cell_type": "code",
   "execution_count": 49,
   "metadata": {},
   "outputs": [
    {
     "name": "stdout",
     "output_type": "stream",
     "text": [
      "1395 correct artists/8740 total artists, using log reg with Word2Vec = accuracy of 0.15961098398169338\n"
     ]
    },
    {
     "name": "stderr",
     "output_type": "stream",
     "text": [
      "/Users/michael.781/anaconda3/lib/python3.11/site-packages/sklearn/linear_model/_logistic.py:458: ConvergenceWarning: lbfgs failed to converge (status=1):\n",
      "STOP: TOTAL NO. of ITERATIONS REACHED LIMIT.\n",
      "\n",
      "Increase the number of iterations (max_iter) or scale the data as shown in:\n",
      "    https://scikit-learn.org/stable/modules/preprocessing.html\n",
      "Please also refer to the documentation for alternative solver options:\n",
      "    https://scikit-learn.org/stable/modules/linear_model.html#logistic-regression\n",
      "  n_iter_i = _check_optimize_result(\n"
     ]
    }
   ],
   "source": [
    "from sklearn.linear_model import LogisticRegression\n",
    "logmodel = LogisticRegression(max_iter=200)\n",
    "fit_predict_artists(logmodel, \"log reg\", \"Word2Vec\")"
   ]
  },
  {
   "cell_type": "code",
   "execution_count": 50,
   "metadata": {},
   "outputs": [
    {
     "name": "stderr",
     "output_type": "stream",
     "text": [
      "/Users/michael.781/anaconda3/lib/python3.11/site-packages/sklearn/linear_model/_logistic.py:458: ConvergenceWarning: lbfgs failed to converge (status=1):\n",
      "STOP: TOTAL NO. of ITERATIONS REACHED LIMIT.\n",
      "\n",
      "Increase the number of iterations (max_iter) or scale the data as shown in:\n",
      "    https://scikit-learn.org/stable/modules/preprocessing.html\n",
      "Please also refer to the documentation for alternative solver options:\n",
      "    https://scikit-learn.org/stable/modules/linear_model.html#logistic-regression\n",
      "  n_iter_i = _check_optimize_result(\n"
     ]
    },
    {
     "name": "stdout",
     "output_type": "stream",
     "text": [
      "Genre results for log reg with Word2Vec:\n",
      "              precision    recall  f1-score   support\n",
      "\n",
      "         pop       0.47      0.41      0.44      1696\n",
      "         rap       0.87      0.90      0.88      3736\n",
      "          rb       0.42      0.14      0.21       635\n",
      "        rock       0.65      0.78      0.71      2673\n",
      "\n",
      "    accuracy                           0.71      8740\n",
      "   macro avg       0.60      0.56      0.56      8740\n",
      "weighted avg       0.69      0.71      0.70      8740\n",
      "\n"
     ]
    }
   ],
   "source": [
    "logmodel = LogisticRegression(max_iter=200)\n",
    "fit_predict_genre(logmodel, \"log reg\", \"Word2Vec\")"
   ]
  },
  {
   "cell_type": "markdown",
   "metadata": {},
   "source": [
    "### <span style=\"color:teal\"> To conclude, the model with the best performance on both classification tasks ended up being the logistic regression model, which was surprising since I initially expected K-Nearest neigbors to perform the best due to an expectation of lyrics from artists & genres tending to be closer together. In comparison to the baseline, it performed 5x better in terms of accuracy on artist classification at ~16%, but performed about the same for genre classification. In the future, If I wanted to expand on this project, one way I may be able to improve my results would be to use bert embeddings to get contextualized embeddings which may help when predicting genre and assessing a song's topic. I could also limit my artist classification to either predict if a song belongs to a specific artist or not."
   ]
  }
 ],
 "metadata": {
  "kernelspec": {
   "display_name": "base",
   "language": "python",
   "name": "python3"
  },
  "language_info": {
   "codemirror_mode": {
    "name": "ipython",
    "version": 3
   },
   "file_extension": ".py",
   "mimetype": "text/x-python",
   "name": "python",
   "nbconvert_exporter": "python",
   "pygments_lexer": "ipython3",
   "version": "3.11.5"
  }
 },
 "nbformat": 4,
 "nbformat_minor": 2
}
